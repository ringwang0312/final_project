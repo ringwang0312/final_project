version https://git-lfs.github.com/spec/v1
oid sha256:a7c3b12a61b4277434816db1749fcc1ada6366d0ca287ece2c3eab1ca709b647
size 1834
