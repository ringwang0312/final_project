version https://git-lfs.github.com/spec/v1
oid sha256:3dc731c014d49e7afee9cd1eae97c23cb04d4eea6920013384aeaaf623def0db
size 374451
